{
 "cells": [
  {
   "cell_type": "code",
   "execution_count": null,
   "id": "7364be19",
   "metadata": {},
   "outputs": [],
   "source": [
    "t = 1:100\n",
    "R = runif(100,-.5,1)\n",
    "phi = runif(100,0,1)\n",
    "lambda = pi/25\n",
    "cyc = R*sin(lambda*t+phi)\n",
    "plot.ts(cyc, xlab=\"\", ylab=\"\")"
   ]
  },
  {
   "cell_type": "code",
   "execution_count": null,
   "id": "50e4a275",
   "metadata": {},
   "outputs": [],
   "source": []
  },
  {
   "cell_type": "code",
   "execution_count": null,
   "id": "97e6eb46",
   "metadata": {},
   "outputs": [],
   "source": []
  },
  {
   "cell_type": "code",
   "execution_count": null,
   "id": "78631ecc",
   "metadata": {},
   "outputs": [],
   "source": []
  }
 ],
 "metadata": {
  "kernelspec": {
   "display_name": "Python 3 (ipykernel)",
   "language": "python",
   "name": "python3"
  },
  "language_info": {
   "codemirror_mode": {
    "name": "ipython",
    "version": 3
   },
   "file_extension": ".py",
   "mimetype": "text/x-python",
   "name": "python",
   "nbconvert_exporter": "python",
   "pygments_lexer": "ipython3",
   "version": "3.9.16"
  }
 },
 "nbformat": 4,
 "nbformat_minor": 5
}
