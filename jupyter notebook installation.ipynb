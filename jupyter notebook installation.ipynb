{
 "cells": [
  {
   "cell_type": "markdown",
   "metadata": {},
   "source": [
    "## Jupyter Notebook Installation\n",
    "\n",
    "### 1. How to install Jupyter Notebook on Windows?\n",
    "\n",
    "Please check the website: https://www.geeksforgeeks.org/how-to-install-jupyter-notebook-in-windows/\n",
    "\n",
    "### 2. How to install Jupyter Notebook on MacOS?\n",
    "\n",
    "Please check the website: https://www.geeksforgeeks.org/how-to-install-jupyter-notebook-on-macos/\n",
    "\n",
    "## Introduction to Jupyter Notebook and Python\n",
    "\n",
    "### 3. Introduction to Jupyter Notebook\n",
    "\n",
    "https://realpython.com/jupyter-notebook-introduction/#installation\n",
    "\n",
    "### 4. Introduction to Python (useful for checking documents of packages)\n",
    "\n",
    "https://python.land/python-tutorial\n",
    "\n",
    "## Google Colab\n",
    "\n",
    "### 1. https://colab.research.google.com/\n",
    "\n",
    "Google Colab is another tool for python programming. \n",
    "\n",
    "Tutorials: https://www.tutorialspoint.com/google_colab/your_first_colab_notebook.htm"
   ]
  }
 ],
 "metadata": {
  "language_info": {
   "name": "python"
  },
  "orig_nbformat": 4
 },
 "nbformat": 4,
 "nbformat_minor": 2
}
